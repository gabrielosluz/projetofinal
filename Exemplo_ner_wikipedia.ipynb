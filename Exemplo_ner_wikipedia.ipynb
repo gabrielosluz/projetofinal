{
 "cells": [
  {
   "cell_type": "code",
   "execution_count": 11,
   "metadata": {},
   "outputs": [],
   "source": [
    "import wikipedia\n",
    "import requests\n",
    "import spacy\n",
    "from collections import Counter\n",
    "import matplotlib.pyplot as plt\n",
    "import numpy as np\n",
    "import seaborn as sns\n",
    "import pandas as pd"
   ]
  },
  {
   "cell_type": "code",
   "execution_count": 2,
   "metadata": {},
   "outputs": [],
   "source": [
    "nlp = spacy.load('en_core_web_sm')"
   ]
  },
  {
   "cell_type": "code",
   "execution_count": 3,
   "metadata": {},
   "outputs": [
    {
     "data": {
      "text/plain": [
       "['World War II',\n",
       " 'World War II casualties',\n",
       " 'Military history of the United States during World War II',\n",
       " 'World war',\n",
       " 'Causes of World War II',\n",
       " 'Allies of World War II',\n",
       " 'World War I',\n",
       " 'Timeline of World War II',\n",
       " 'List of aircraft of World War II',\n",
       " 'Call of Duty: WWII']"
      ]
     },
     "execution_count": 3,
     "metadata": {},
     "output_type": "execute_result"
    }
   ],
   "source": [
    "result = wikipedia.search(\"World War 2\")\n",
    "result"
   ]
  },
  {
   "cell_type": "code",
   "execution_count": 4,
   "metadata": {},
   "outputs": [],
   "source": [
    "page = wikipedia.page(result[0], preload= True)"
   ]
  },
  {
   "cell_type": "code",
   "execution_count": 5,
   "metadata": {},
   "outputs": [
    {
     "data": {
      "text/plain": [
       "'https://en.wikipedia.org/wiki/World_War_II'"
      ]
     },
     "execution_count": 5,
     "metadata": {},
     "output_type": "execute_result"
    }
   ],
   "source": [
    "page.url"
   ]
  },
  {
   "cell_type": "code",
   "execution_count": 55,
   "metadata": {
    "collapsed": true
   },
   "outputs": [
    {
     "data": {
      "text/plain": [
       "'The 2016 United States elections were held on Tuesday, November 8, 2016. Republican nominee Donald Trump defeated Democratic former Secretary of State Hillary Clinton in the presidential election, while Republicans retained control of Congress.\\nTrump won his party\\'s nomination after defeating Ted Cruz and several other candidates in the 2016 Republican presidential primaries. With Democratic president Barack Obama term-limited, Clinton defeated Bernie Sanders in the 2016 Democratic presidential primaries. Trump won the general election with 304 of the 538 electoral votes, though Clinton won the popular vote by a margin of 2.1 percentage points (2,868,686 votes). The United States government\\'s intelligence agencies later concluded that the Russian government had interfered in the elections.\\nWall Street banks and other big financial institutions spent a record $2 billion trying to influence the 2016 United States elections.Democrats won a net gain of two seats in the Senate and six seats in the House of Representatives, but Republicans retained control of both chambers. In the gubernatorial elections, Republicans won a net gain of two seats. Various other state, territorial, and local races and referenda were held throughout the year.\\n\\n\\n== Federal elections ==\\n\\n\\n=== Presidential election ===\\n\\nThe United States presidential election of 2016 was the 58th quadrennial presidential election. The electoral vote distribution was determined by the 2010 census from which presidential electors electing the president and vice president were chosen; a simple majority (270) of the 538 electoral votes were required to win. Businessman and reality television personality Donald Trump of New York won the Republican Party\\'s presidential nomination on July 19, 2016, after defeating Texas Senator Ted Cruz, Ohio Governor John Kasich, Florida Senator Marco Rubio, and several other candidates in the Republican primary elections.[1] Former Secretary of State, First Lady and New York Senator Hillary Clinton won the Democratic Party\\'s presidential nomination on July 26, 2016, after defeating Vermont Senator Bernie Sanders and others in the Democratic primary elections. This was the first election with a female presidential nominee from a major political party, as well as the first election since 1944 that had major party presidential nominees from the same home state. Clinton won the popular vote, taking 48% of the vote compared to Trump\\'s 46% of the vote, but Trump won the electoral vote and thus the presidency. Libertarian Gary Johnson won 3.3% of the popular vote, the strongest performance by a third party presidential nominee since the 1996 election. Trump won the states of Michigan, Pennsylvania, Wisconsin, Florida, Ohio, and Iowa, all of which were won by Obama in 2008 and 2012. The election is one of five presidential elections in American history in which the winner of the popular vote did not win the presidency.\\n\\n\\n==== Russian interference ====\\n\\nThe United States government\\'s intelligence agencies concluded the Russian government interfered in the 2016 United States elections. A joint US intelligence review stated with high confidence that, \"Russian President Vladimir Putin ordered an influence campaign in 2016 aimed at the US presidential election.  In May 2019, Republican Florida Governor Ron DeSantis announced Russians hacked voting databases in two Florida counties prior to the 2016 presidential election and no election results were compromised.\\n\\n\\n=== Congressional elections ===\\n\\n\\n==== Senate elections ====\\n\\nAll seats in Senate Class 3 were up for election. Democrats won a net gain of two seats, but Republicans retained a majority with 52 seats in the 100-member chamber.\\n\\n\\n==== House of Representatives elections ====\\n\\nAll 435 voting seats in the United States House of Representatives were up for election. Additionally, elections were held to select the delegates for the District of Columbia and the U.S. territories, including the Resident Commissioner of Puerto Rico.\\nDemocrats won a net gain of six seats, but Republicans held a 241-to-194 majority following the elections. Nationwide, Republicans won the popular vote for the House of Representatives by a margin of 1.1 percent.\\n\\n\\n== State elections ==\\n\\n\\n=== Gubernatorial elections ===\\n\\nRegular elections were held for the governorships of 11 U.S. states and two U.S. territories. Additionally, a special election was held in Oregon after the resignation of John Kitzhaber as governor. Republicans won a net gain of two seats.\\n\\n\\n=== Legislative elections ===\\nIn 2016, 44 states held state legislative elections; 86 of the 99 chambers were up for election. Only six states did not hold state legislative elections: Louisiana, Mississippi, New Jersey, Virginia, Alabama, and Maryland.\\n\\n\\n=== Other elections and ballot measures ===\\nMany states also held elections for other elected offices, such as attorney general. Many states held ballot measures.\\n\\n\\n== Local elections ==\\n\\n\\n=== Mayoral elections ===\\nMayoral elections were held in many cities, including:\\n\\nBakersfield, California: Incumbent Harvey Hall did not seek re-election. Karen Goh was elected to succeed Hall. The office is not partisan.\\nBaltimore, Maryland: Incumbent Democrat Stephanie Rawlings-Blake did not seek re-election. Democrat Catherine E. Pugh was elected as Rawlings-Blake\\'s replacement.\\nGilbert, Arizona: Incumbent John Lewis resigned prior to the election. Interim mayor Jenn Daniels was elected to succeed Lewis. The office is not partisan.\\nHonolulu, Hawaii: Incumbent Democrat Kirk Caldwell won re-election to a second term.\\nMilwaukee, Wisconsin: Incumbent Tom Barrett was re-elected to a fourth term. The office is not partisan.\\nPortland, Oregon: Incumbent Charlie Hales did not seek re-election. Ted Wheeler was elected to succeed Hales. The office is not partisan.\\nRichmond, Virginia: Incumbent Dwight C. Jones was term-limited and cannot seek re-election. Levar Stoney was elected as the new Richmond, VA, mayor. The office is not partisan.\\nSacramento, California: Incumbent Democrat Kevin Johnson did not seek re-election. Democrat Darrell Steinberg was elected as Johnson\\'s replacement.\\nSan Diego, California: Incumbent Kevin Faulconer won a second term as mayor. The office is not partisan.\\nTulsa, Oklahoma: Incumbent Republican Dewey F. Bartlett Jr. was defeated by city councilor and fellow Republican G. T. Bynum.\\n\\n\\n== Table of state, territorial, and federal results ==\\n\\nThis table shows the partisan results of Congressional, gubernatorial, presidential, and state legislative races held in each state and territory in 2016. Note that not all states and territories hold gubernatorial, state legislative, and United States Senate elections in 2016; additionally, the territories do not have electoral votes in American presidential elections, and neither Washington, D.C. nor the territories elect members of the United States Senate. Washington, D.C., and the five inhabited territories each elect one non-voting member of the United States House of Representatives. Nebraska\\'s unicameral legislature and the governorship and legislature of American Samoa are officially non-partisan. In the table, offices/legislatures that are not up for election in 2016 are already filled in for the \"after 2016 elections\" section, although vacancies or party switching could potentially lead to a flip in partisan control.\\n\\n\\n== Footnotes ==\\n\\n\\n== References ==\\n\\n\\n== External links ==\\n\"State Elections Legislation Database\", Ncsl.org, Washington, D.C.: National Conference of State Legislatures, State legislation related to the administration of elections introduced in 2011 through...2020'"
      ]
     },
     "execution_count": 55,
     "metadata": {},
     "output_type": "execute_result"
    }
   ],
   "source": [
    "page.content"
   ]
  },
  {
   "cell_type": "code",
   "execution_count": 6,
   "metadata": {},
   "outputs": [],
   "source": [
    "doc = nlp(page.content)"
   ]
  },
  {
   "cell_type": "code",
   "execution_count": 7,
   "metadata": {},
   "outputs": [
    {
     "name": "stdout",
     "output_type": "stream",
     "text": [
      "World --> PROPN\n",
      "War --> PROPN\n",
      "II --> PROPN\n",
      "( --> PUNCT\n",
      "WWII --> PROPN\n",
      "or --> CCONJ\n",
      "WW2 --> PROPN\n",
      ") --> PUNCT\n",
      ", --> PUNCT\n",
      "also --> ADV\n",
      "known --> VERB\n",
      "as --> SCONJ\n"
     ]
    }
   ],
   "source": [
    "max_token_display = 10 \n",
    "for idx , token in enumerate(doc):\n",
    "    # Print the token and its part-of-speech tag\n",
    "    print(token.text, \"-->\", token.pos_, )\n",
    "    if idx > max_token_display:\n",
    "        break;"
   ]
  },
  {
   "cell_type": "code",
   "execution_count": 8,
   "metadata": {},
   "outputs": [
    {
     "name": "stdout",
     "output_type": "stream",
     "text": [
      "World War II 0 12 EVENT\n",
      "the Second World War 42 62 EVENT\n",
      "from 1939 to 1945 93 110 DATE\n",
      "two 206 209 CARDINAL\n",
      "more than 100 million 308 329 CARDINAL\n",
      "more than 30 345 357 CARDINAL\n",
      "World War II 550 562 EVENT\n",
      "70 to 85 million 621 637 CARDINAL\n",
      "Tens of millions 702 718 CARDINAL\n",
      "World War II 983 995 EVENT\n",
      "1 September 1939 1037 1053 DATE\n",
      "Poland 1076 1082 GPE\n"
     ]
    }
   ],
   "source": [
    "for idx , ent in enumerate(doc.ents):\n",
    "    print(ent.text, ent.start_char, ent.end_char, ent.label_)\n",
    "    if idx>max_token_display:\n",
    "        break"
   ]
  },
  {
   "cell_type": "code",
   "execution_count": 9,
   "metadata": {},
   "outputs": [
    {
     "name": "stdout",
     "output_type": "stream",
     "text": [
      "[('Hitler', 22), ('Mussolini', 4), ('Roosevelt', 4), ('Wehrmacht', 3), ('Kharkov', 3)]\n"
     ]
    }
   ],
   "source": [
    "persons  = [ent.text for ent in doc.ents if ent.label_=='PERSON']\n",
    "person_count = Counter(persons)\n",
    "person_count = person_count.most_common(5)\n",
    "\n",
    "print(person_count)"
   ]
  },
  {
   "cell_type": "code",
   "execution_count": 12,
   "metadata": {},
   "outputs": [],
   "source": [
    "person_df = pd.DataFrame(person_count, columns =['Name', 'Count']) "
   ]
  },
  {
   "cell_type": "code",
   "execution_count": 13,
   "metadata": {
    "scrolled": true
   },
   "outputs": [
    {
     "data": {
      "image/png": "[encoded data removed]",
      "text/plain": [
       "<Figure size 432x288 with 1 Axes>"
      ]
     },
     "metadata": {},
     "output_type": "display_data"
    }
   ],
   "source": [
    "sns.set_theme(style=\"whitegrid\")\n",
    "ax1 = sns.barplot(x=\"Name\", y=\"Count\", data=person_df, orient='v')"
   ]
  },
  {
   "cell_type": "code",
   "execution_count": 134,
   "metadata": {},
   "outputs": [],
   "source": [
    "ax1.figure.savefig('ner_ww2_person.png')"
   ]
  },
  {
   "cell_type": "code",
   "execution_count": 15,
   "metadata": {},
   "outputs": [
    {
     "name": "stdout",
     "output_type": "stream",
     "text": [
      "[('Germany', 111), ('Japan', 83), ('the Soviet Union', 50), ('Italy', 38), ('France', 33), ('China', 30), ('the United States', 27), ('Poland', 26), ('the United Kingdom', 21), ('Romania', 12), ('Finland', 9), ('The Soviet Union', 9), ('Czechoslovakia', 8), ('Yugoslavia', 8), ('North Africa', 7)]\n"
     ]
    }
   ],
   "source": [
    "gpe  = [ent.text for ent in doc.ents if ent.label_=='GPE']\n",
    "gpe_count = Counter(gpe)\n",
    "gpe_count = gpe_count.most_common(15)\n",
    "\n",
    "print(gpe_count)"
   ]
  },
  {
   "cell_type": "code",
   "execution_count": 16,
   "metadata": {},
   "outputs": [
    {
     "data": {
      "image/png": "[encoded data removed]",
      "text/plain": [
       "<Figure size 432x288 with 1 Axes>"
      ]
     },
     "metadata": {},
     "output_type": "display_data"
    }
   ],
   "source": [
    "country_df = pd.DataFrame(gpe_count, columns =['Country', 'Count']) \n",
    "sns.set_theme(style=\"whitegrid\")\n",
    "ax2 = sns.barplot(x=\"Count\", y=\"Country\", data=country_df, orient='h')"
   ]
  },
  {
   "cell_type": "code",
   "execution_count": 18,
   "metadata": {},
   "outputs": [],
   "source": [
    "ax2.figure.savefig('ner_ww2_country.png')"
   ]
  },
  {
   "cell_type": "code",
   "execution_count": 124,
   "metadata": {},
   "outputs": [
    {
     "name": "stdout",
     "output_type": "stream",
     "text": [
      "[('Allied', 33), ('Allies', 20), ('the Western Allies', 16), ('the League of Nations', 6), ('Axis', 6), ('the Eastern Front', 5), ('ISBN', 5), ('Commonwealth', 3), ('UN', 2), ('Security Council', 2)]\n"
     ]
    }
   ],
   "source": [
    "org  = [ent.text for ent in doc.ents if ent.label_=='ORG']\n",
    "org_count = Counter(org)\n",
    "org_count = org_count.most_common(15)\n",
    "\n",
    "print(org_count)"
   ]
  },
  {
   "cell_type": "code",
   "execution_count": 125,
   "metadata": {},
   "outputs": [
    {
     "data": {
      "text/html": [
       "<div>\n",
       "<style scoped>\n",
       "    .dataframe tbody tr th:only-of-type {\n",
       "        vertical-align: middle;\n",
       "    }\n",
       "\n",
       "    .dataframe tbody tr th {\n",
       "        vertical-align: top;\n",
       "    }\n",
       "\n",
       "    .dataframe thead th {\n",
       "        text-align: right;\n",
       "    }\n",
       "</style>\n",
       "<table border=\"1\" class=\"dataframe\">\n",
       "  <thead>\n",
       "    <tr style=\"text-align: right;\">\n",
       "      <th></th>\n",
       "      <th>Org</th>\n",
       "      <th>Count</th>\n",
       "    </tr>\n",
       "  </thead>\n",
       "  <tbody>\n",
       "    <tr>\n",
       "      <th>0</th>\n",
       "      <td>Allied</td>\n",
       "      <td>33</td>\n",
       "    </tr>\n",
       "    <tr>\n",
       "      <th>1</th>\n",
       "      <td>Allies</td>\n",
       "      <td>20</td>\n",
       "    </tr>\n",
       "    <tr>\n",
       "      <th>2</th>\n",
       "      <td>the Western Allies</td>\n",
       "      <td>16</td>\n",
       "    </tr>\n",
       "    <tr>\n",
       "      <th>3</th>\n",
       "      <td>the League of Nations</td>\n",
       "      <td>6</td>\n",
       "    </tr>\n",
       "    <tr>\n",
       "      <th>4</th>\n",
       "      <td>Axis</td>\n",
       "      <td>6</td>\n",
       "    </tr>\n",
       "  </tbody>\n",
       "</table>\n",
       "</div>"
      ],
      "text/plain": [
       "                     Org  Count\n",
       "0                 Allied     33\n",
       "1                 Allies     20\n",
       "2     the Western Allies     16\n",
       "3  the League of Nations      6\n",
       "4                   Axis      6"
      ]
     },
     "execution_count": 125,
     "metadata": {},
     "output_type": "execute_result"
    }
   ],
   "source": [
    "org_df = pd.DataFrame(org_count, columns =['Org', 'Count']) \n",
    "org_df.head()"
   ]
  },
  {
   "cell_type": "code",
   "execution_count": 128,
   "metadata": {},
   "outputs": [
    {
     "data": {
      "image/png": "[encoded data removed]",
      "text/plain": [
       "<Figure size 432x288 with 1 Axes>"
      ]
     },
     "metadata": {},
     "output_type": "display_data"
    }
   ],
   "source": [
    "sns.set_theme(style=\"whitegrid\")\n",
    "ax3 = sns.barplot(x=\"Count\", y=\"Org\", data=org_df, orient='h')"
   ]
  },
  {
   "cell_type": "code",
   "execution_count": 136,
   "metadata": {},
   "outputs": [],
   "source": [
    "ax3.figure.savefig('ner_ww2_org.png')"
   ]
  }
 ],
 "metadata": {
  "kernelspec": {
   "display_name": "Python 3",
   "language": "python",
   "name": "python3"
  },
  "language_info": {
   "codemirror_mode": {
    "name": "ipython",
    "version": 3
   },
   "file_extension": ".py",
   "mimetype": "text/x-python",
   "name": "python",
   "nbconvert_exporter": "python",
   "pygments_lexer": "ipython3",
   "version": "3.7.7"
  }
 },
 "nbformat": 4,
 "nbformat_minor": 2
}
